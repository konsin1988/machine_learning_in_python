{
 "cells": [
  {
   "cell_type": "code",
   "execution_count": 1,
   "id": "48843c9a-f47b-43ef-95a1-284b2b291352",
   "metadata": {},
   "outputs": [],
   "source": [
    "import pandas as pd\n",
    "import numpy as np"
   ]
  },
  {
   "cell_type": "markdown",
   "id": "bc25ee94-1066-49b1-a4e5-9e266f481dd6",
   "metadata": {},
   "source": [
    "# XGBoost, Light GBM и CatBoost"
   ]
  },
  {
   "cell_type": "markdown",
   "id": "fa91832c-abd2-42ea-aee4-dcfc2e4a824c",
   "metadata": {},
   "source": [
    "## XGBoost"
   ]
  },
  {
   "cell_type": "markdown",
   "id": "676f191a-5a80-46c1-bc41-d8d08d6ee8c9",
   "metadata": {},
   "source": [
    "XGBoost расшифровывается как Extreme Gradient Boosting. Это усовершенствованная реализация алгоритма градиентного бустинга. Он в десять раз быстрее классических алгоритмов. Алгоритм XGBoost имеет ряд преимуществ, о которых говорится в документации к ним.\n",
    "\n",
    "-    Он может использоваться для решения различных задач, включая регрессию, классификацию и пользовательские задачи прогнозирования.\n",
    "-    Его можно запускать в распределенных средах, таких как Hadoop.\n",
    "-    Поддерживает регуляризацию для борьбы с переобучением.\n",
    "-    Хорошо справляется с разреженными данными (отсутствующими значениями).\n",
    "-    Поддерживает распараллеливание для использования всех ядер системы.\n",
    "-    Поддерживаются вычисления вне ядер для наборов данных, которые не помещаются в память. "
   ]
  },
  {
   "cell_type": "markdown",
   "id": "d0a10bb5-bee6-4f07-94eb-363fe571b362",
   "metadata": {},
   "source": [
    "### LightGBM\n",
    "LightGBM, представленный впервые в исследовательском документе Microsoft, представляет собой фреймворк градиентного усиления, использующий алгоритмы обучения на основе деревьев (Decision Trees). LightGBM не рекомендуется использовать для небольших наборов данных, так как он склонен к переобучению. Преимущества LightGBM, согласно документации, следующие:\n",
    "\n",
    "-    Высокая скорость обучения и хорошие результаты.\n",
    "-    Он занимает меньше памяти и поддерживает параллельное обучение и обучение на GPU.\n",
    "-    Он способен работать с большими наборами данных.\n"
   ]
  },
  {
   "cell_type": "markdown",
   "id": "bf44dcb2-76ce-4f72-9d72-5dd7887ba183",
   "metadata": {},
   "source": [
    "### XGBoost Vs. LightGBM Vs. CatBoost"
   ]
  },
  {
   "cell_type": "markdown",
   "id": "df9c51de-1e2e-465f-818c-d21e4393a0bb",
   "metadata": {},
   "source": [
    "<center>\n",
    "    <img alt=\"\" height=\"479\" name=\"image.png\" src=\"https://ucarecdn.com/cdcba427-1564-416b-9096-8d1418c85718/\" width=\"500\">\n",
    "</center>"
   ]
  },
  {
   "cell_type": "code",
   "execution_count": null,
   "id": "d284aec6-bf5a-4d63-925c-6455b7433416",
   "metadata": {},
   "outputs": [],
   "source": []
  }
 ],
 "metadata": {
  "kernelspec": {
   "display_name": "Python 3 (ipykernel)",
   "language": "python",
   "name": "python3"
  },
  "language_info": {
   "codemirror_mode": {
    "name": "ipython",
    "version": 3
   },
   "file_extension": ".py",
   "mimetype": "text/x-python",
   "name": "python",
   "nbconvert_exporter": "python",
   "pygments_lexer": "ipython3",
   "version": "3.12.3"
  }
 },
 "nbformat": 4,
 "nbformat_minor": 5
}
