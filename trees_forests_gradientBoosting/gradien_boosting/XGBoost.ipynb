{
 "cells": [
  {
   "cell_type": "markdown",
   "id": "a61a1c43-1944-4937-a96d-47200dc485ed",
   "metadata": {},
   "source": [
    "# XGBoost"
   ]
  },
  {
   "cell_type": "markdown",
   "id": "96bc8ff7-a3cc-4083-8b8d-07ea54a0c7bb",
   "metadata": {},
   "source": [
    "#### Веса на листьях\n",
    "\n",
    "Каждое дерево решений в XGBoost состоит из узлов и листьев. Листья представляют собой конечные точки дерева, в которых делаются предсказания. Для каждого листа назначается вес — это значение, которое используется для предсказания целевой переменной для всех данных, попавших в этот лист. Эти веса обновляются на каждой итерации, чтобы минимизировать ошибку модели. Вес листа отражает величину корректировки предсказаний для данных, попавших в этот сегмент.\n",
    "\n",
    "#### Регуляризация (L1 и L2)\n",
    "\n",
    "XGBoost вводит регуляризационные методы L1 (Lasso) и L2 (Ridge), которые помогают контролировать сложность модели. Эти штрафы применяются к весам листьев деревьев, чтобы избежать переобучения модели. Регуляризация минимизирует чрезмерное влияние отдельных признаков и сглаживает весовые значения, что делает модель более устойчивой к шуму в данных.\n",
    "\n",
    "#### Обрезка деревьев (Tree Pruning)\n",
    "\n",
    "XGBoost использует стратегию обрезки деревьев для уменьшения их сложности. Если очередное разбиение не приводит к значительному снижению функции потерь, оно отбрасывается. Это улучшает общую производительность модели и предотвращает создание слишком глубоких деревьев, которые могут привести к переобучению.\n",
    "\n",
    "С момента своего появления в 2014 году XGBoost стал алгоритмом машинного обучения, который предпочитают ученые, изучающие данные, и инженеры машинного обучения. Это библиотека с открытым исходным кодом, которая позволяет обучать и тестировать модели на больших объемах данных. Она используется во многих областях, от прогнозирования количества кликов по рекламным объявлениям до классификации событий в физике высоких энергий.\n",
    "\n",
    "XGBoost особенно популярен, потому что он (по сравнению с классическим градиентным бустингом) очень быстрый, и эта скорость достигается без ущерба для точности!\n",
    "\n",
    "#### Особенности XGBoost\n",
    "Давайте обсудим некоторые особенности XGBoost, которые делают его таким привлекательным.\n",
    "\n",
    "Как мы уже отметили, XGBoost предлагает регуляризацию, которая позволяет контролировать перебор путем введения штрафов L1/L2 на весах и смещениях каждого дерева. Эта функция недоступна во многих других реализациях градиентного бустинга.\n",
    "Еще одной особенностью XGBoost является возможность работы с разреженными наборами данных с помощью алгоритма взвешенного квантильного эскиза. Этот алгоритм позволяет нам работать с ненулевыми значениями в матрице признаков, сохраняя при этом ту же вычислительную сложность, что и другие алгоритмы, например стохастический градиентный спуск.\n",
    "XGBoost также имеет блочную структуру для параллельного обучения. Это позволяет легко масштабировать его на многоядерных машинах или кластерах. Кроме того, он использует кэш, что позволяет сократить расход памяти при обучении моделей с большими наборами данных.\n",
    "Наконец, XGBoost предлагает возможности внеядерных вычислений, используя на этапе вычислений структуры данных на диске, а не в памяти.\n",
    "\n",
    "#### Почему именно XGBoost?\n",
    "XGBoost традиционно использовался по двум причинам: скорость и производительность модели.\n",
    "\n",
    "Скорость выполнения очень важна, поскольку она необходима для работы с большими наборами данных. При использовании XGBoost нет ограничений на размер набора данных, поэтому вы можете работать с большими наборами данных, чем это было бы возможно при использовании других алгоритмов.\n",
    "\n",
    "Производительность модели также очень важна, поскольку позволяет создавать модели, которые могут работать лучше других. XGBoost сравнивался с различными алгоритмами, такими как случайный лес (RF), машины градиентного усиления (GBM) и деревья решений с градиентным усилением (GBDT). Эти сравнения показали, что XGBoost превосходит другие алгоритмы по скорости выполнения и производительности модели.\n",
    "\n",
    "В то же время следует отметить, что с момента появления этого алгоритма прошло уже более 10 лет и за это время появились более быстрые и (на мой взгляд) мощные с предсказательной точки зрения реализации градиентного бустинга, такие как LightGBM и, в особенности, catBoost."
   ]
  },
  {
   "cell_type": "markdown",
   "id": "ee67b079-21fa-46f7-bfab-5115c57534d7",
   "metadata": {},
   "source": [
    "### Основные отличия XGBoost от классического градиентного бустинга:\n",
    "\n",
    "-    **Регуляризация**: XGBoost добавляет L1 (Lasso) и L2 (Ridge) регуляризации, что помогает избежать переобучения и улучшает обобщающую способность модели. Классический градиентный бустинг обычно не включает эти дополнительные методы регуляризации.\n",
    "\n",
    "-    **Параллелизация**: XGBoost поддерживает параллельную обработку, что значительно ускоряет обучение моделей, особенно на больших объемах данных. В то время как классический градиентный бустинг следует строгой последовательной схеме, XGBoost использует параллельные вычисления для ускорения процесса построения деревьев.\n",
    "\n",
    "-    **Обработка пропущенных данных**: В XGBoost встроена поддержка пропущенных данных. Алгоритм автоматически определяет, как лучше обрабатывать пропущенные значения, что позволяет избежать предварительной обработки данных. Классический бустинг требует ручной обработки пропусков.\n",
    "\n",
    "-    **Обрезка деревьев (Tree Pruning)**: XGBoost использует стратегию \"умного обрезания\" деревьев, чтобы удалять ветви, которые не приносят значительного улучшения модели, основываясь на параметре γ (Gamma). Это помогает избежать создания слишком сложных моделей. Классический градиентный бустинг часто просто останавливает рост дерева при достижении негативной функции потерь, что может привести к субоптимальным результатам. \n",
    "\n",
    "-    **Параметр γ (Gamma) в XGBoost** — это гиперпараметр, который контролирует минимальное снижение функции потерь, необходимое для того, чтобы продолжить разбиение узла дерева на подузлы. Чем выше значение γ, тем более строго алгоритм будет \"обрезать\" дерево, отсекая малозначимые разбиения. Это помогает избежать создания слишком сложных деревьев и предотвращает переобучение. Когда значение γ увеличивается, модель становится проще, так как XGBoost отклоняет разбиения, которые дают только незначительное улучшение предсказаний. Если значение γ равно 0, алгоритм работает без ограничений на разбиение узлов.\n",
    "\n",
    "-    **Использование Dropout**: XGBoost поддерживает технику Dropout (метод DART), которая случайно отключает деревья в процессе бустинга, что дополнительно снижает вероятность переобучения (тем самым значение каждого индивидуального дерева уменьшается). Этот метод аналогичен регуляризации Dropout в нейронных сетях ;).\n",
    "\n",
    "-    **Встроенная кросс-валидация**: XGBoost включает встроенную поддержку кросс-валидации, что позволяет автоматически оценивать модель на разных итерациях и предотвращать переобучение. В классическом градиентном бустинге кросс-валидацию приходится настраивать вручную с помощью внешних инструментов.\n",
    "\n"
   ]
  },
  {
   "cell_type": "code",
   "execution_count": 2,
   "id": "0b53e8ef-7558-4ca7-bb1d-f584048225cf",
   "metadata": {},
   "outputs": [
    {
     "name": "stdout",
     "output_type": "stream",
     "text": [
      "Defaulting to user installation because normal site-packages is not writeable\n",
      "Collecting xgboost\n",
      "  Downloading xgboost-2.1.3-py3-none-manylinux_2_28_x86_64.whl.metadata (2.1 kB)\n",
      "Requirement already satisfied: numpy in /usr/lib/python3/dist-packages (from xgboost) (1.26.4)\n",
      "Collecting nvidia-nccl-cu12 (from xgboost)\n",
      "  Downloading nvidia_nccl_cu12-2.25.1-py3-none-manylinux2014_x86_64.manylinux_2_17_x86_64.whl.metadata (1.8 kB)\n",
      "Requirement already satisfied: scipy in /usr/lib/python3/dist-packages (from xgboost) (1.11.4)\n",
      "Downloading xgboost-2.1.3-py3-none-manylinux_2_28_x86_64.whl (153.9 MB)\n",
      "\u001b[2K   \u001b[38;2;114;156;31m━━━━━━━━━━━━━━━━━━━━━━━━━━━━━━━━━━━━━━━\u001b[0m \u001b[32m153.9/153.9 MB\u001b[0m \u001b[31m359.3 kB/s\u001b[0m eta \u001b[36m0:00:00\u001b[0mm eta \u001b[36m0:00:01\u001b[0m[36m0:00:13\u001b[0m\n",
      "Downloading nvidia_nccl_cu12-2.25.1-py3-none-manylinux2014_x86_64.manylinux_2_17_x86_64.whl (201.4 MB)\n",
      "\u001b[2K   \u001b[38;2;114;156;31m━━━━━━━━━━━━━━━━━━━━━━━━━━━━━━━━━━━━━━━\u001b[0m \u001b[32m201.4/201.4 MB\u001b[0m \u001b[31m313.7 kB/s\u001b[0m eta \u001b[36m0:00:00\u001b[0mm eta \u001b[36m0:00:01\u001b[0m[36m0:00:16\u001b[0m\n",
      "Installing collected packages: nvidia-nccl-cu12, xgboost\n",
      "Successfully installed nvidia-nccl-cu12-2.25.1 xgboost-2.1.3\n",
      "Note: you may need to restart the kernel to use updated packages.\n"
     ]
    }
   ],
   "source": [
    "pip install xgboost --break-system-packages"
   ]
  },
  {
   "cell_type": "code",
   "execution_count": 2,
   "id": "a5cca90f-e981-4bfc-af95-72fae7d73dad",
   "metadata": {},
   "outputs": [],
   "source": [
    "import pandas as pd \n",
    "import numpy as np\n",
    "import seaborn as sns\n",
    "import matplotlib.pyplot as plt \n",
    "import plotly.express as px\n",
    "\n",
    "import warnings"
   ]
  },
  {
   "cell_type": "code",
   "execution_count": 3,
   "id": "6a5ebc46-7743-47bf-8f3a-7450b48537a7",
   "metadata": {},
   "outputs": [],
   "source": [
    "warnings.filterwarnings('ignore')"
   ]
  },
  {
   "cell_type": "code",
   "execution_count": 4,
   "id": "ef0b7c3f-118f-43b1-8df1-956c0239fee1",
   "metadata": {},
   "outputs": [
    {
     "name": "stdout",
     "output_type": "stream",
     "text": [
      "<class 'pandas.core.frame.DataFrame'>\n",
      "RangeIndex: 53940 entries, 0 to 53939\n",
      "Data columns (total 10 columns):\n",
      " #   Column   Non-Null Count  Dtype   \n",
      "---  ------   --------------  -----   \n",
      " 0   carat    53940 non-null  float64 \n",
      " 1   cut      53940 non-null  category\n",
      " 2   color    53940 non-null  category\n",
      " 3   clarity  53940 non-null  category\n",
      " 4   depth    53940 non-null  float64 \n",
      " 5   table    53940 non-null  float64 \n",
      " 6   price    53940 non-null  int64   \n",
      " 7   x        53940 non-null  float64 \n",
      " 8   y        53940 non-null  float64 \n",
      " 9   z        53940 non-null  float64 \n",
      "dtypes: category(3), float64(6), int64(1)\n",
      "memory usage: 3.0 MB\n"
     ]
    }
   ],
   "source": [
    "dia = sns.load_dataset('diamonds')\n",
    "dia.info()"
   ]
  },
  {
   "cell_type": "code",
   "execution_count": 7,
   "id": "762bb600-868b-4791-8115-ca582f5612e1",
   "metadata": {},
   "outputs": [
    {
     "data": {
      "text/plain": [
       "carat      0\n",
       "cut        0\n",
       "color      0\n",
       "clarity    0\n",
       "depth      0\n",
       "table      0\n",
       "price      0\n",
       "x          0\n",
       "y          0\n",
       "z          0\n",
       "dtype: int64"
      ]
     },
     "execution_count": 7,
     "metadata": {},
     "output_type": "execute_result"
    }
   ],
   "source": [
    "dia.isna().sum()"
   ]
  },
  {
   "cell_type": "code",
   "execution_count": 8,
   "id": "ade99136-28a1-4643-8951-35e09fa8612e",
   "metadata": {},
   "outputs": [
    {
     "data": {
      "text/html": [
       "<div>\n",
       "<style scoped>\n",
       "    .dataframe tbody tr th:only-of-type {\n",
       "        vertical-align: middle;\n",
       "    }\n",
       "\n",
       "    .dataframe tbody tr th {\n",
       "        vertical-align: top;\n",
       "    }\n",
       "\n",
       "    .dataframe thead th {\n",
       "        text-align: right;\n",
       "    }\n",
       "</style>\n",
       "<table border=\"1\" class=\"dataframe\">\n",
       "  <thead>\n",
       "    <tr style=\"text-align: right;\">\n",
       "      <th></th>\n",
       "      <th>carat</th>\n",
       "      <th>depth</th>\n",
       "      <th>table</th>\n",
       "      <th>price</th>\n",
       "      <th>x</th>\n",
       "      <th>y</th>\n",
       "      <th>z</th>\n",
       "    </tr>\n",
       "  </thead>\n",
       "  <tbody>\n",
       "    <tr>\n",
       "      <th>count</th>\n",
       "      <td>53940.000000</td>\n",
       "      <td>53940.000000</td>\n",
       "      <td>53940.000000</td>\n",
       "      <td>53940.000000</td>\n",
       "      <td>53940.000000</td>\n",
       "      <td>53940.000000</td>\n",
       "      <td>53940.000000</td>\n",
       "    </tr>\n",
       "    <tr>\n",
       "      <th>mean</th>\n",
       "      <td>0.797940</td>\n",
       "      <td>61.749405</td>\n",
       "      <td>57.457184</td>\n",
       "      <td>3932.799722</td>\n",
       "      <td>5.731157</td>\n",
       "      <td>5.734526</td>\n",
       "      <td>3.538734</td>\n",
       "    </tr>\n",
       "    <tr>\n",
       "      <th>std</th>\n",
       "      <td>0.474011</td>\n",
       "      <td>1.432621</td>\n",
       "      <td>2.234491</td>\n",
       "      <td>3989.439738</td>\n",
       "      <td>1.121761</td>\n",
       "      <td>1.142135</td>\n",
       "      <td>0.705699</td>\n",
       "    </tr>\n",
       "    <tr>\n",
       "      <th>min</th>\n",
       "      <td>0.200000</td>\n",
       "      <td>43.000000</td>\n",
       "      <td>43.000000</td>\n",
       "      <td>326.000000</td>\n",
       "      <td>0.000000</td>\n",
       "      <td>0.000000</td>\n",
       "      <td>0.000000</td>\n",
       "    </tr>\n",
       "    <tr>\n",
       "      <th>25%</th>\n",
       "      <td>0.400000</td>\n",
       "      <td>61.000000</td>\n",
       "      <td>56.000000</td>\n",
       "      <td>950.000000</td>\n",
       "      <td>4.710000</td>\n",
       "      <td>4.720000</td>\n",
       "      <td>2.910000</td>\n",
       "    </tr>\n",
       "    <tr>\n",
       "      <th>50%</th>\n",
       "      <td>0.700000</td>\n",
       "      <td>61.800000</td>\n",
       "      <td>57.000000</td>\n",
       "      <td>2401.000000</td>\n",
       "      <td>5.700000</td>\n",
       "      <td>5.710000</td>\n",
       "      <td>3.530000</td>\n",
       "    </tr>\n",
       "    <tr>\n",
       "      <th>75%</th>\n",
       "      <td>1.040000</td>\n",
       "      <td>62.500000</td>\n",
       "      <td>59.000000</td>\n",
       "      <td>5324.250000</td>\n",
       "      <td>6.540000</td>\n",
       "      <td>6.540000</td>\n",
       "      <td>4.040000</td>\n",
       "    </tr>\n",
       "    <tr>\n",
       "      <th>max</th>\n",
       "      <td>5.010000</td>\n",
       "      <td>79.000000</td>\n",
       "      <td>95.000000</td>\n",
       "      <td>18823.000000</td>\n",
       "      <td>10.740000</td>\n",
       "      <td>58.900000</td>\n",
       "      <td>31.800000</td>\n",
       "    </tr>\n",
       "  </tbody>\n",
       "</table>\n",
       "</div>"
      ],
      "text/plain": [
       "              carat         depth         table         price             x  \\\n",
       "count  53940.000000  53940.000000  53940.000000  53940.000000  53940.000000   \n",
       "mean       0.797940     61.749405     57.457184   3932.799722      5.731157   \n",
       "std        0.474011      1.432621      2.234491   3989.439738      1.121761   \n",
       "min        0.200000     43.000000     43.000000    326.000000      0.000000   \n",
       "25%        0.400000     61.000000     56.000000    950.000000      4.710000   \n",
       "50%        0.700000     61.800000     57.000000   2401.000000      5.700000   \n",
       "75%        1.040000     62.500000     59.000000   5324.250000      6.540000   \n",
       "max        5.010000     79.000000     95.000000  18823.000000     10.740000   \n",
       "\n",
       "                  y             z  \n",
       "count  53940.000000  53940.000000  \n",
       "mean       5.734526      3.538734  \n",
       "std        1.142135      0.705699  \n",
       "min        0.000000      0.000000  \n",
       "25%        4.720000      2.910000  \n",
       "50%        5.710000      3.530000  \n",
       "75%        6.540000      4.040000  \n",
       "max       58.900000     31.800000  "
      ]
     },
     "execution_count": 8,
     "metadata": {},
     "output_type": "execute_result"
    }
   ],
   "source": [
    "dia.describe()"
   ]
  },
  {
   "cell_type": "code",
   "execution_count": 9,
   "id": "2c784b81-6eb2-483e-b4be-8642cee0fbaa",
   "metadata": {},
   "outputs": [
    {
     "data": {
      "text/html": [
       "<div>\n",
       "<style scoped>\n",
       "    .dataframe tbody tr th:only-of-type {\n",
       "        vertical-align: middle;\n",
       "    }\n",
       "\n",
       "    .dataframe tbody tr th {\n",
       "        vertical-align: top;\n",
       "    }\n",
       "\n",
       "    .dataframe thead th {\n",
       "        text-align: right;\n",
       "    }\n",
       "</style>\n",
       "<table border=\"1\" class=\"dataframe\">\n",
       "  <thead>\n",
       "    <tr style=\"text-align: right;\">\n",
       "      <th></th>\n",
       "      <th>cut</th>\n",
       "      <th>color</th>\n",
       "      <th>clarity</th>\n",
       "    </tr>\n",
       "  </thead>\n",
       "  <tbody>\n",
       "    <tr>\n",
       "      <th>count</th>\n",
       "      <td>53940</td>\n",
       "      <td>53940</td>\n",
       "      <td>53940</td>\n",
       "    </tr>\n",
       "    <tr>\n",
       "      <th>unique</th>\n",
       "      <td>5</td>\n",
       "      <td>7</td>\n",
       "      <td>8</td>\n",
       "    </tr>\n",
       "    <tr>\n",
       "      <th>top</th>\n",
       "      <td>Ideal</td>\n",
       "      <td>G</td>\n",
       "      <td>SI1</td>\n",
       "    </tr>\n",
       "    <tr>\n",
       "      <th>freq</th>\n",
       "      <td>21551</td>\n",
       "      <td>11292</td>\n",
       "      <td>13065</td>\n",
       "    </tr>\n",
       "  </tbody>\n",
       "</table>\n",
       "</div>"
      ],
      "text/plain": [
       "          cut  color clarity\n",
       "count   53940  53940   53940\n",
       "unique      5      7       8\n",
       "top     Ideal      G     SI1\n",
       "freq    21551  11292   13065"
      ]
     },
     "execution_count": 9,
     "metadata": {},
     "output_type": "execute_result"
    }
   ],
   "source": [
    "dia.describe(exclude = np.number)"
   ]
  },
  {
   "cell_type": "code",
   "execution_count": 5,
   "id": "c642d192-bd48-40ac-bafc-76ed5d46072e",
   "metadata": {},
   "outputs": [
    {
     "name": "stdout",
     "output_type": "stream",
     "text": [
      "<class 'pandas.core.frame.DataFrame'>\n",
      "RangeIndex: 53940 entries, 0 to 53939\n",
      "Data columns (total 9 columns):\n",
      " #   Column   Non-Null Count  Dtype   \n",
      "---  ------   --------------  -----   \n",
      " 0   carat    53940 non-null  float64 \n",
      " 1   cut      53940 non-null  category\n",
      " 2   color    53940 non-null  category\n",
      " 3   clarity  53940 non-null  category\n",
      " 4   depth    53940 non-null  float64 \n",
      " 5   table    53940 non-null  float64 \n",
      " 6   x        53940 non-null  float64 \n",
      " 7   y        53940 non-null  float64 \n",
      " 8   z        53940 non-null  float64 \n",
      "dtypes: category(3), float64(6)\n",
      "memory usage: 2.6 MB\n"
     ]
    }
   ],
   "source": [
    "from sklearn.model_selection import train_test_split\n",
    "\n",
    "X, y = dia.drop(columns = ['price']), dia['price']\n",
    "X.info()"
   ]
  },
  {
   "cell_type": "code",
   "execution_count": 6,
   "id": "cc162b78-0527-4fd0-8616-f51f93eb6ea8",
   "metadata": {},
   "outputs": [],
   "source": [
    "for col in X.select_dtypes(exclude = np.number).columns:\n",
    "    X[col] = X[col].astype('category')"
   ]
  },
  {
   "cell_type": "code",
   "execution_count": 66,
   "id": "6509804f-a8e7-4c45-8d30-8b48b1b71477",
   "metadata": {},
   "outputs": [
    {
     "name": "stdout",
     "output_type": "stream",
     "text": [
      "<class 'pandas.core.frame.DataFrame'>\n",
      "RangeIndex: 53940 entries, 0 to 53939\n",
      "Data columns (total 9 columns):\n",
      " #   Column   Non-Null Count  Dtype   \n",
      "---  ------   --------------  -----   \n",
      " 0   carat    53940 non-null  float64 \n",
      " 1   cut      53940 non-null  category\n",
      " 2   color    53940 non-null  category\n",
      " 3   clarity  53940 non-null  category\n",
      " 4   depth    53940 non-null  float64 \n",
      " 5   table    53940 non-null  float64 \n",
      " 6   x        53940 non-null  float64 \n",
      " 7   y        53940 non-null  float64 \n",
      " 8   z        53940 non-null  float64 \n",
      "dtypes: category(3), float64(6)\n",
      "memory usage: 2.6 MB\n"
     ]
    }
   ],
   "source": [
    "X.info()"
   ]
  },
  {
   "cell_type": "code",
   "execution_count": 7,
   "id": "0ede7f81-d4dd-49fe-a988-39f1e6391bd2",
   "metadata": {},
   "outputs": [],
   "source": [
    "X_train, X_test, y_train, y_test = train_test_split(X, y, test_size=0.25, random_state = 13)"
   ]
  },
  {
   "cell_type": "markdown",
   "id": "3022f223-3945-4a9e-9a84-32d830dad2a9",
   "metadata": {},
   "source": [
    "### xgboost"
   ]
  },
  {
   "cell_type": "markdown",
   "id": "64a5a032-725b-4ab2-abc3-7c60e32166b3",
   "metadata": {},
   "source": [
    ">XGBoost поставляется с собственным классом для хранения наборов данных, который называется DMatrix. Это высоко оптимизированный класс для памяти и скорости. Поэтому преобразование наборов данных в этот формат является обязательным условием для родного API XGBoost:"
   ]
  },
  {
   "cell_type": "markdown",
   "id": "a7e8a2bc-460b-46e5-b1ac-12a8675d235f",
   "metadata": {},
   "source": [
    ">Класс принимает как обучающие признаки, так и метки. Чтобы включить автоматическое кодирование столбцов категорий Pandas, мы также установили enable_categorical в True."
   ]
  },
  {
   "cell_type": "code",
   "execution_count": 8,
   "id": "b4815212-00bd-40b3-9b11-6cd9cad46643",
   "metadata": {},
   "outputs": [],
   "source": [
    "import xgboost as xgb\n",
    "\n",
    "dtrain_reg = xgb.DMatrix(X_train, y_train, enable_categorical=True)\n",
    "dtest_reg = xgb.DMatrix(X_test, y_test, enable_categorical=True)"
   ]
  },
  {
   "cell_type": "markdown",
   "id": "d083352a-7ad3-41f8-841a-1e6fc97b734d",
   "metadata": {},
   "source": [
    "### Обучение\n",
    ">Выбранная объективная функция и любые другие гиперпараметры XGBoost должны быть указаны в словаре, который по условию должен называться params:"
   ]
  },
  {
   "cell_type": "code",
   "execution_count": 9,
   "id": "faf7b51f-58e2-4669-af3c-6e5e63f1b80e",
   "metadata": {},
   "outputs": [],
   "source": [
    "# Определяем гиперпараметры\n",
    "params = {\"objective\": \"reg:squarederror\", \"tree_method\": \"hist\"}"
   ]
  },
  {
   "cell_type": "code",
   "execution_count": 82,
   "id": "bdef841f-19d3-4c90-9d39-4d88f2a86ad5",
   "metadata": {},
   "outputs": [],
   "source": [
    "n = 100\n",
    "model = xgb.train(\n",
    "   params=params,\n",
    "   dtrain=dtrain_reg,\n",
    "   num_boost_round=n,\n",
    ")"
   ]
  },
  {
   "cell_type": "code",
   "execution_count": 83,
   "id": "7eb32fe4-ad56-4303-959e-e554481c2961",
   "metadata": {},
   "outputs": [],
   "source": [
    "from sklearn.metrics import mean_squared_error\n",
    "\n",
    "preds = model.predict(dtest_reg)"
   ]
  },
  {
   "cell_type": "code",
   "execution_count": 84,
   "id": "c2f7ad1a-b7f7-4cb8-aebe-063a5eb8921a",
   "metadata": {},
   "outputs": [
    {
     "name": "stdout",
     "output_type": "stream",
     "text": [
      "RMSE базовой модели: 557.008\n"
     ]
    }
   ],
   "source": [
    "rmse = mean_squared_error(y_test, preds, squared=False)\n",
    "\n",
    "print(f'RMSE базовой модели: {rmse:.3f}')\n",
    "#RMSE базовой модели: 543.203"
   ]
  },
  {
   "cell_type": "code",
   "execution_count": 12,
   "id": "f691e6b4-18c3-45fd-8645-4d0e2c0b8586",
   "metadata": {},
   "outputs": [
    {
     "name": "stdout",
     "output_type": "stream",
     "text": [
      "[0]\ttrain-rmse:2861.72581\tvalidation-rmse:2863.67303\n",
      "[10]\ttrain-rmse:550.47204\tvalidation-rmse:588.22753\n",
      "[20]\ttrain-rmse:494.49628\tvalidation-rmse:559.03764\n",
      "[30]\ttrain-rmse:469.03745\tvalidation-rmse:550.02711\n",
      "[40]\ttrain-rmse:452.49707\tvalidation-rmse:552.34149\n",
      "[50]\ttrain-rmse:433.34989\tvalidation-rmse:549.71882\n",
      "[60]\ttrain-rmse:418.86832\tvalidation-rmse:553.17431\n",
      "[70]\ttrain-rmse:408.78509\tvalidation-rmse:553.45774\n",
      "[80]\ttrain-rmse:397.81548\tvalidation-rmse:553.97016\n",
      "[90]\ttrain-rmse:389.04545\tvalidation-rmse:555.17282\n",
      "[99]\ttrain-rmse:378.85757\tvalidation-rmse:557.00836\n"
     ]
    }
   ],
   "source": [
    "evals = [(dtrain_reg, \"train\"), (dtest_reg, \"validation\")]\n",
    "\n",
    "model = xgb.train(\n",
    "   params=params,\n",
    "   dtrain=dtrain_reg,\n",
    "   num_boost_round=100,\n",
    "   evals=evals,\n",
    "    verbose_eval = 10\n",
    ")"
   ]
  },
  {
   "cell_type": "code",
   "execution_count": null,
   "id": "03b9e915-339b-4f3d-a364-9f104f01f467",
   "metadata": {},
   "outputs": [],
   "source": []
  }
 ],
 "metadata": {
  "kernelspec": {
   "display_name": "Python 3 (ipykernel)",
   "language": "python",
   "name": "python3"
  },
  "language_info": {
   "codemirror_mode": {
    "name": "ipython",
    "version": 3
   },
   "file_extension": ".py",
   "mimetype": "text/x-python",
   "name": "python",
   "nbconvert_exporter": "python",
   "pygments_lexer": "ipython3",
   "version": "3.12.3"
  }
 },
 "nbformat": 4,
 "nbformat_minor": 5
}
