{
 "cells": [
  {
   "cell_type": "code",
   "execution_count": 1,
   "id": "2496b9ea-0c7f-4ba1-83e0-cb4135ceb3d5",
   "metadata": {},
   "outputs": [],
   "source": [
    "import pandas as pd\n",
    "import numpy as np\n"
   ]
  },
  {
   "cell_type": "markdown",
   "id": "51c7ff47-a1bf-4eca-850d-c4b36db5bed3",
   "metadata": {},
   "source": [
    "# Logistic regression"
   ]
  },
  {
   "cell_type": "markdown",
   "id": "f4af576b-81dd-4bb6-9e85-fb94993810e1",
   "metadata": {},
   "source": [
    ">Для логистической регрессии используется логистическая функция потерь, которая штрафует модель за ошибочные предсказания, особенно если они имеют высокую уверенность. Логистическая функция потерь выглядит так:"
   ]
  },
  {
   "cell_type": "markdown",
   "id": "4d37d82b-48df-47af-ab54-64366bc347c8",
   "metadata": {},
   "source": [
    "$$ L(y, \\hat{y}) = -\\frac{1}{n}\\sum_{i=1}^n [y_i\\cdot log(\\hat{y_i}) + (1 - y_i)\\cdot log(1 - \\hat{y_i})]$$"
   ]
  },
  {
   "cell_type": "markdown",
   "id": "875f0f0c-91e5-4721-8863-2cc36528207a",
   "metadata": {},
   "source": [
    "#### Регуляризация\n",
    "\n",
    ">Чтобы предотвратить переобучение и улучшить обобщающую способность модели, в логистической регрессии часто добавляют регуляризацию. Регуляризация — это штраф за слишком большие значения весов модели, который позволяет сделать её менее чувствительной к шуму в данных. Это добавляется в функцию потерь как дополнительный член."
   ]
  },
  {
   "cell_type": "markdown",
   "id": "40079506-ae24-4d98-9a31-82742ddc021f",
   "metadata": {},
   "source": [
    "# AUC-ROC"
   ]
  },
  {
   "cell_type": "markdown",
   "id": "04800faf-44c9-4fc9-95f4-c9c94ed0f57e",
   "metadata": {},
   "source": [
    ">Для оценки качества бинарных классификационных моделей, таких как логистическая регрессия, часто используется метрика AUC-ROC"
   ]
  },
  {
   "cell_type": "markdown",
   "id": "fd5a8e07-70f6-4bd3-89ab-c0d38aab868a",
   "metadata": {},
   "source": [
    "<div class='alert alert-box alert-warning'>ROC-кривая (Receiver Operating Characteristic) — это график, который отображает зависимость между <b>долей верно предсказанных положительных объектов</b> (True Positive Rate, TPR) и <b>долей ложных срабатываний</b> (False Positive Rate, FPR) при разных порогах вероятности</div>"
   ]
  },
  {
   "cell_type": "markdown",
   "id": "2e9025a2-6958-406e-a805-fcf01457f6a5",
   "metadata": {},
   "source": [
    ">**AUC (Area Under Curve)** — это площадь под этой кривой, которая характеризует качество модели. Чем ближе AUC к 1, тем лучше модель. AUC=0.5 означает, что модель классифицирует случайным образом."
   ]
  },
  {
   "cell_type": "markdown",
   "id": "91458925-a21d-4414-83cb-5cd08e7669fe",
   "metadata": {},
   "source": [
    "<center><img alt=\"\" height=\"283\" name=\"image.png\" src=\"https://ucarecdn.com/ab850ecf-7851-4c04-b82a-5b65db08d955/\" width=\"500\"></center>"
   ]
  },
  {
   "cell_type": "markdown",
   "id": "e5efb1ca-e11f-4e08-9977-d3438897fbe5",
   "metadata": {},
   "source": [
    ">ROC-кривая (Receiver Operating Characteristic) — это график, который отображает зависимость между двумя показателями:\n",
    "\n",
    "True Positive Rate (TPR) или полнота: это доля правильно предсказанных объектов положительного класса от всех реальных объектов этого класса: \n",
    "$$ TPR=\\frac {True Positives}{True Positives+False Negatives} $$\n",
    "False Positive Rate (FPR): это доля объектов, которые классификатор ошибочно предсказал как положительные, хотя на самом деле они принадлежат к отрицательному классу:\n",
    "$$ FPR=\\frac{False Positives}{False Positives+True Negatives} $$\n",
    "\n"
   ]
  },
  {
   "cell_type": "markdown",
   "id": "f513e2c5-05f4-4602-96b0-5ebcd0a588d0",
   "metadata": {},
   "source": [
    ">**Порог (threshold)** в задачах классификации — это значение, которое используется для принятия решения о том, к какому классу отнести объект на основе вероятности, предсказанной моделью. Многие классификаторы (например, логистическая регрессия) предсказывают вероятность принадлежности объекта к классу +1, и чтобы принять решение о финальной классификации, необходимо выбрать порог."
   ]
  },
  {
   "cell_type": "code",
   "execution_count": null,
   "id": "5499d6ae-51d1-49e3-8961-c203970a589f",
   "metadata": {},
   "outputs": [],
   "source": []
  }
 ],
 "metadata": {
  "kernelspec": {
   "display_name": "Python 3 (ipykernel)",
   "language": "python",
   "name": "python3"
  },
  "language_info": {
   "codemirror_mode": {
    "name": "ipython",
    "version": 3
   },
   "file_extension": ".py",
   "mimetype": "text/x-python",
   "name": "python",
   "nbconvert_exporter": "python",
   "pygments_lexer": "ipython3",
   "version": "3.12.3"
  }
 },
 "nbformat": 4,
 "nbformat_minor": 5
}
