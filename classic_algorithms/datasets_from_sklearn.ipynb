{
 "cells": [
  {
   "cell_type": "markdown",
   "id": "34698539-edab-46d8-b466-156eb43d2f3d",
   "metadata": {},
   "source": [
    "<center><img alt=\"\" height=\"320\" name=\"image.png\" src=\"https://ucarecdn.com/ad958ccc-8a46-44a4-ade1-0333149798dd/\" width=\"800\"></center>"
   ]
  },
  {
   "cell_type": "code",
   "execution_count": null,
   "id": "88ad9781-757f-41e0-8497-f2c2cbb999a7",
   "metadata": {},
   "outputs": [],
   "source": []
  }
 ],
 "metadata": {
  "kernelspec": {
   "display_name": "Python 3 (ipykernel)",
   "language": "python",
   "name": "python3"
  },
  "language_info": {
   "codemirror_mode": {
    "name": "ipython",
    "version": 3
   },
   "file_extension": ".py",
   "mimetype": "text/x-python",
   "name": "python",
   "nbconvert_exporter": "python",
   "pygments_lexer": "ipython3",
   "version": "3.12.3"
  }
 },
 "nbformat": 4,
 "nbformat_minor": 5
}
